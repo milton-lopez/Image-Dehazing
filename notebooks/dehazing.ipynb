{
 "cells": [
  {
   "cell_type": "code",
   "execution_count": 278,
   "metadata": {},
   "outputs": [],
   "source": [
    "import numpy as np\n",
    "import cv2\n",
    "import os\n",
    "import sys\n",
    "import matplotlib.pyplot as plt"
   ]
  },
  {
   "cell_type": "code",
   "execution_count": 279,
   "metadata": {},
   "outputs": [],
   "source": [
    "current_dir = os.getcwd()\n",
    "parent_dir = os.path.abspath(os.path.join(current_dir, \"..\"))\n",
    "sys.path.append(parent_dir)"
   ]
  },
  {
   "cell_type": "code",
   "execution_count": 280,
   "metadata": {},
   "outputs": [],
   "source": [
    "IMAGES_PATH = \"../data\""
   ]
  },
  {
   "cell_type": "code",
   "execution_count": 281,
   "metadata": {},
   "outputs": [],
   "source": [
    "def get_image_paths_from_dir(directory):\n",
    "    files = os.listdir(directory)\n",
    "    image_files = [file for file in files if file.endswith((\".jpg\", \".jpeg\", \".png\"))]\n",
    "\n",
    "    paths = []\n",
    "    for image_file in image_files:\n",
    "        image_path = os.path.join(directory, image_file)\n",
    "        paths.append(image_path)\n",
    "\n",
    "    return paths"
   ]
  },
  {
   "cell_type": "code",
   "execution_count": null,
   "metadata": {},
   "outputs": [],
   "source": [
    "img_hazy = cv2.imread(f\"{IMAGES_PATH}/cityscape_input.png\")\n",
    "img_hazy = cv2.cvtColor(img_hazy, cv2.COLOR_BGR2RGB)\n",
    "plt.imshow(img_hazy)\n",
    "plt.show()"
   ]
  },
  {
   "cell_type": "code",
   "execution_count": 283,
   "metadata": {},
   "outputs": [],
   "source": [
    "from dehazing.air_light_estimator import AirLightEstimator\n",
    "from dehazing.dehazer import Dehazer\n",
    "\n",
    "gamma = 0.6\n",
    "air_light_estimator = AirLightEstimator()\n",
    "dehazer = Dehazer(n_points=1000, gamma=gamma)"
   ]
  },
  {
   "cell_type": "code",
   "execution_count": 284,
   "metadata": {},
   "outputs": [],
   "source": [
    "img_gamma_corrected = np.power(img_hazy / 255.0, gamma)\n",
    "air_light = air_light_estimator.estimate_airlight(img_gamma_corrected)\n",
    "img_dehazed, transmission_map = dehazer.non_local_dehazing(img_hazy, air_light)"
   ]
  },
  {
   "cell_type": "code",
   "execution_count": 287,
   "metadata": {},
   "outputs": [],
   "source": [
    "# fig, axs = plt.subplots(1, 3, figsize=(18, 10))\n",
    "\n",
    "# axs[0].imshow(img_hazy)\n",
    "# axs[0].set_title(\"Original\")\n",
    "# axs[0].axis(\"off\")\n",
    "\n",
    "# axs[1].imshow(img_dehazed)\n",
    "# axs[1].set_title(\"Dehazed\")\n",
    "# axs[1].axis(\"off\")\n",
    "\n",
    "# axs[2].imshow(transmission_map, cmap=\"jet\")\n",
    "# axs[2].set_title(\"Transmission Map\")\n",
    "# axs[2].axis(\"off\")\n",
    "\n",
    "# plt.tight_layout()\n",
    "# plt.show()"
   ]
  },
  {
   "cell_type": "code",
   "execution_count": 286,
   "metadata": {},
   "outputs": [],
   "source": [
    "# Dehaze all images in /data and plot results\n",
    "\n",
    "for image_path in get_image_paths_from_dir(IMAGES_PATH):\n",
    "    img = cv2.imread(image_path)\n",
    "    img_rgb = cv2.cvtColor(img, cv2.COLOR_BGR2RGB)\n",
    "\n",
    "    img_gamma_corrected = np.power(img_rgb / 255.0, gamma)\n",
    "    air_light = air_light_estimator.estimate_airlight(img_gamma_corrected)\n",
    "\n",
    "    img_dehazed, transmission_map = dehazer.non_local_dehazing(img_rgb, air_light)\n",
    "\n",
    "    fig, (ax1, ax2, ax3) = plt.subplots(1, 3, figsize=(18, 10))\n",
    "\n",
    "    ax1.imshow(img_rgb)\n",
    "    ax1.set_title(\"Original\")\n",
    "    ax1.axis(\"off\")\n",
    "\n",
    "    ax2.imshow(img_dehazed)\n",
    "    ax2.set_title(\"Dehazed\")\n",
    "    ax2.axis(\"off\")\n",
    "\n",
    "    ax3.imshow(transmission_map, cmap=\"jet\")\n",
    "    ax3.set_title(\"Transmission Map\")\n",
    "    ax3.axis(\"off\")\n",
    "\n",
    "    plt.tight_layout()\n",
    "    plt.show()"
   ]
  }
 ],
 "metadata": {
  "kernelspec": {
   "display_name": "ndeh_env",
   "language": "python",
   "name": "python3"
  },
  "language_info": {
   "codemirror_mode": {
    "name": "ipython",
    "version": 3
   },
   "file_extension": ".py",
   "mimetype": "text/x-python",
   "name": "python",
   "nbconvert_exporter": "python",
   "pygments_lexer": "ipython3",
   "version": "3.11.5"
  }
 },
 "nbformat": 4,
 "nbformat_minor": 2
}
